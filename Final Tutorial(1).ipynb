{
 "cells": [
  {
   "cell_type": "code",
   "execution_count": 38,
   "id": "9681f786",
   "metadata": {},
   "outputs": [
    {
     "name": "stdout",
     "output_type": "stream",
     "text": [
      "  State         City             Street  Zipcode   Latitude  Longitude  \\\n",
      "0    AL     Saraland           Scott Dr  36571.0  30.819534 -88.095960   \n",
      "1    AL    Southside       Big Oak Dr W  35907.0  33.881050 -86.012436   \n",
      "2    AL  Robertsdale    Cowpen Creek Rd  36567.0  30.590004 -87.580376   \n",
      "3    AL  Gulf Shores  Spinnaker Dr #201  36542.0  30.284956 -87.747920   \n",
      "4    AL      Chelsea         Mallet Way  35043.0  33.357986 -86.608700   \n",
      "\n",
      "   Bedroom  Bathroom    Area        PPSq  LotArea  ConvertedLot LotUnit  \\\n",
      "0      4.0       2.0  1614.0  148.636927  0.38050       0.38050   acres   \n",
      "1      3.0       2.0  1474.0    0.000678  0.67034       0.67034   acres   \n",
      "2      3.0       2.0  1800.0  144.388889  3.20000       3.20000   acres   \n",
      "3      2.0       2.0  1250.0  274.000000      NaN           NaN     NaN   \n",
      "4      3.0       3.0  2224.0  150.629496  0.26000       0.26000   acres   \n",
      "\n",
      "   MarketEstimate  RentEstimate     Price  \n",
      "0        240600.0        1599.0  239900.0  \n",
      "1        186700.0        1381.0       1.0  \n",
      "2             NaN           NaN  259900.0  \n",
      "3             NaN           NaN  342500.0  \n",
      "4        336200.0        1932.0  335000.0  \n"
     ]
    }
   ],
   "source": [
    "import pandas as pd\n",
    "import numpy as np \n",
    "import matplotlib.pyplot as plt\n",
    "import seaborn as sns\n",
    "\n",
    "df = pd.read_csv(\"zillow_housing_prices.csv\")\n",
    "\n",
    "print(df.head())"
   ]
  },
  {
   "cell_type": "markdown",
   "id": "158beb92",
   "metadata": {},
   "source": [
    "First we're going to clean our data to be usable. We will drop city and street because they are too specific for our purposes. We will also drop Latitude and Longitude because those aren't relevant to estimating the market price if we keep the states. \n",
    "\n",
    "*fix description to talk about why we dropped these specific columns*"
   ]
  },
  {
   "cell_type": "code",
   "execution_count": 39,
   "id": "bcdd4f45",
   "metadata": {},
   "outputs": [
    {
     "name": "stdout",
     "output_type": "stream",
     "text": [
      "Index(['State', 'Bedroom', 'Bathroom', 'Area', 'PPSq', 'ConvertedLot',\n",
      "       'MarketEstimate'],\n",
      "      dtype='object')\n"
     ]
    }
   ],
   "source": [
    "df.drop(columns=['City', 'Street', 'Zipcode', 'Latitude','Longitude', 'LotArea', 'LotUnit', 'RentEstimate', 'Price'], inplace = True)\n",
    "print(df.columns)\n"
   ]
  },
  {
   "cell_type": "markdown",
   "id": "6ffe9b76",
   "metadata": {},
   "source": [
    "* add more paragraphs about missing data, mention MCAR, NAR, etc.* \n",
    "* mention the possibility of missing data imputation* -> by using estimate \n",
    "\n",
    "The next concern we have about cleaning our data is missing data....\n"
   ]
  },
  {
   "cell_type": "code",
   "execution_count": 40,
   "id": "a4123015",
   "metadata": {},
   "outputs": [
    {
     "name": "stdout",
     "output_type": "stream",
     "text": [
      "  State  Bedroom  Bathroom    Area        PPSq  ConvertedLot  MarketEstimate\n",
      "0    AL      4.0       2.0  1614.0  148.636927       0.38050        240600.0\n",
      "1    AL      3.0       2.0  1474.0    0.000678       0.67034        186700.0\n",
      "4    AL      3.0       3.0  2224.0  150.629496       0.26000        336200.0\n",
      "6    AL      3.0       2.0  1564.0   96.547315       0.20000        150500.0\n",
      "7    AL      3.0       2.0  1717.0  139.196273       0.38000        238400.0\n"
     ]
    }
   ],
   "source": [
    "# Dropping all rows with missing data \n",
    "df.dropna(inplace = True)\n",
    "print(df.head())"
   ]
  },
  {
   "cell_type": "code",
   "execution_count": 41,
   "id": "7ef49ef0",
   "metadata": {},
   "outputs": [
    {
     "name": "stdout",
     "output_type": "stream",
     "text": [
      "     State  Bedroom  Bathroom    Area        PPSq  ConvertedLot  \\\n",
      "9164    MD      4.0       3.0  2300.0   56.478261         0.270   \n",
      "471     AL      4.0       2.0  1089.0  117.079890         0.150   \n",
      "1900    AR      3.0       1.0  1524.0   16.076115         0.330   \n",
      "8228    LA      4.0       2.0  2707.0    9.235316         0.379   \n",
      "7725    KY      2.0       2.0  1105.0   24.886878         0.090   \n",
      "\n",
      "      MarketEstimate  \n",
      "9164         15700.0  \n",
      "471          21400.0  \n",
      "1900         22500.0  \n",
      "8228         24531.0  \n",
      "7725         25900.0  \n",
      "      State  Bedroom  Bathroom     Area         PPSq  ConvertedLot  \\\n",
      "9949     MA      9.0      11.0  23374.0  1197.912210        3.1012   \n",
      "24095    WY      5.0       7.0   7984.0  4101.953908       37.0600   \n",
      "2422     CA      7.0       9.0  14000.0  2063.428571        1.3082   \n",
      "24268    WY      4.0       7.0   9696.0  3867.574257        4.5300   \n",
      "20183    TN      5.0      10.0  19811.0  2019.080309       49.7200   \n",
      "\n",
      "       MarketEstimate  \n",
      "9949       27766800.0  \n",
      "24095      28174700.0  \n",
      "2422       28572600.0  \n",
      "24268      31759700.0  \n",
      "20183      36876900.0  \n"
     ]
    }
   ],
   "source": [
    "df.sort_values(by=['MarketEstimate'], inplace = True)\n",
    "print(df.head())\n",
    "print(df.tail())"
   ]
  },
  {
   "cell_type": "markdown",
   "id": "64c58135",
   "metadata": {},
   "source": [
    "*fix this later, find sources to talk about average* \n",
    "\n",
    "As you can see above, the ranges for the markest estimate is very large. We want to do a more accurate and average prediction. Thus we will limit our ranges from $100,000 to $2,000,000. "
   ]
  },
  {
   "cell_type": "code",
   "execution_count": 42,
   "id": "b555af85",
   "metadata": {},
   "outputs": [
    {
     "name": "stdout",
     "output_type": "stream",
     "text": [
      "      State  Bedroom  Bathroom    Area        PPSq  ConvertedLot  \\\n",
      "7512     KS      2.0       1.0   704.0  140.625000          0.14   \n",
      "23846    WI      4.0       2.0  2440.0   40.942623          0.42   \n",
      "10408    MI      1.0       1.0   528.0  189.204545          1.74   \n",
      "8567     ME      3.0       1.0  1008.0  106.150794          1.00   \n",
      "18149    PA      3.0       2.0  1145.0   87.248908          0.06   \n",
      "\n",
      "       MarketEstimate  \n",
      "7512         100200.0  \n",
      "23846        100200.0  \n",
      "10408        100600.0  \n",
      "8567         100600.0  \n",
      "18149        100800.0  \n"
     ]
    }
   ],
   "source": [
    "df = df[(df['MarketEstimate'] >= 100000) & (df['MarketEstimate'] <= 2000000)]\n",
    "print(df.head())"
   ]
  }
 ],
 "metadata": {
  "kernelspec": {
   "display_name": "Python 3 (ipykernel)",
   "language": "python",
   "name": "python3"
  },
  "language_info": {
   "codemirror_mode": {
    "name": "ipython",
    "version": 3
   },
   "file_extension": ".py",
   "mimetype": "text/x-python",
   "name": "python",
   "nbconvert_exporter": "python",
   "pygments_lexer": "ipython3",
   "version": "3.9.12"
  }
 },
 "nbformat": 4,
 "nbformat_minor": 5
}
