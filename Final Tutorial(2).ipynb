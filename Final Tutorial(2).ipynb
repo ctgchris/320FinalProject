{
 "cells": [
  {
   "cell_type": "markdown",
   "id": "a7cf5f49",
   "metadata": {},
   "source": [
    "<div align=\"center\"> <span style=\"color:black\"> <h1> <b> An Evaluation of House Prices Market </b> </h1> </span> </div>\n",
    "\n",
    "<div align=\"center\"> <span style=\"color:black\"> <h3> Applying Data Science Life Cycle on Housing Prices </h3> </span> </div>\n",
    "\n",
    "<br> \n",
    "\n",
    "<div align=\"center\"> <img src=\"house.jpg\" style=\"width:200px;height:200px;\" alt=\"House\"> </div>\n",
    "\n",
    "<br>\n",
    "\n",
    "<b> Brianna Giang, Christopher Giang, Tony Vu </b> \n",
    "\n",
    "<h3>Table of Contents</h3>\n",
    "\n",
    "<ul>\n",
    "    <li><a href=\"#introduction\">Introduction</a>\n",
    "    <br></li>\n",
    "</ul>\n",
    "<ul>\n",
    "    <li><a href=\"#part1\">Part 1: Data Collection</a></li>\n",
    "</ul>\n",
    "\n",
    "<ul>\n",
    "    <li><a href=\"#part2\">Part 2: Data Cleaning</a></li>\n",
    "</ul>\n",
    "    \n",
    "<ul>\n",
    "    <li><a href=\"#part3\">Part 3: Exploratory Data Analysis</a></li>\n",
    "</ul>\n",
    "\n",
    "<ul>\n",
    "    <li><a href=\"#part4\">Part 4: Full Model Implementation</a>\n",
    "</ul>\n",
    "\n",
    "<ul>\n",
    "    <li><a href=\"#part5\">Part 5: Visualizations</a><br></li>\n",
    "</ul>\n",
    "\n",
    "<ul>\n",
    "    <li><a href=\"#part6\">Part 6: Conclusions</a><ul> </li>\n",
    "</ul> "
   ]
  },
  {
   "cell_type": "markdown",
   "id": "5df8f6d4",
   "metadata": {},
   "source": [
    "<p><a id='introduction'></a></p>\n",
    "<h2 id=\"Introduction\">Introduction</h2><a class=\"anchor-link\" href=\"#Introduction\"></a>\n",
    "<p> ... *write the introduction here* *add html links that fit* \n",
    "<br></p>\n",
    "\n",
    "<br>\n",
    "\n",
    "<p> We will seek to identify the factors that contribute to the house market prices by looking through \n",
    "USA Zillow House Listing of 2023. We will determine which factors are correlated betwee the changes of prices. This study will cover the entire data science lifecycle, from data collection all the way to conclusive findings. </p>"
   ]
  },
  {
   "cell_type": "markdown",
   "id": "b508ebb1",
   "metadata": {},
   "source": [
    "<p><a id='part1'></a></p>\n",
    "<h2 id=\"Data-Collection\">Part 1: Data Collection<a class=\"anchor-link\" href=\"#Data-Collection\"></a></h2>\n",
    "\n",
    "<p>First off we start with importing our data. Our analysis will be on the entire country level. We will start by importing the relevant Python libraries for this study.</p>\n"
   ]
  },
  {
   "cell_type": "markdown",
   "id": "ee8b52c0",
   "metadata": {},
   "source": []
  },
  {
   "cell_type": "code",
   "execution_count": null,
   "id": "a6d3f1f6",
   "metadata": {},
   "outputs": [],
   "source": [
    "# These are standard Python libraries when doing machine learning analysis. \n",
    "import pandas as pd\n",
    "import numpy as np \n",
    "\n",
    "# These libraries are used for plots and visualizations. \n",
    "import matplotlib.pyplot as plt\n",
    "import seaborn as sns"
   ]
  },
  {
   "cell_type": "markdown",
   "id": "04f5cbc6",
   "metadata": {},
   "source": [
    "Our dataset came from <a href=\"https://www.kaggle.com/datasets/febinphilips/us-house-listings-2023/data\"> Kaggle </a> , sourced from Zillow, a leading online platform for real estate transactions giving information on approximately 100 million homes. It's a comprehensive dataset covering various housing attributes across different regions of the United States, encompassing states, cities, and neighborhoods. This dataset offers valuable perspectives on real estate patterns and property attributes. Each entry corresponds to an individual property listing, containing information like location, property details, market valuations, and additional specifications.\n",
    "\n",
    "Download the the dataset from Kaggle to be able to import it. \n"
   ]
  },
  {
   "cell_type": "code",
   "execution_count": null,
   "id": "34cc2863",
   "metadata": {},
   "outputs": [],
   "source": [
    "df = pd.read_csv(\"zillow_housing_prices.csv\")\n",
    "\n",
    "print(df.head())"
   ]
  },
  {
   "cell_type": "markdown",
   "id": "158beb92",
   "metadata": {},
   "source": [
    "First we're going to clean our data to be usable. We will drop city and street because they are too specific for our purposes. We will also drop Latitude and Longitude because those aren't relevant to estimating the market price if we keep the states. \n",
    "\n",
    "*fix description to talk about why we dropped these specific columns*"
   ]
  },
  {
   "cell_type": "code",
   "execution_count": 39,
   "id": "bcdd4f45",
   "metadata": {},
   "outputs": [
    {
     "name": "stdout",
     "output_type": "stream",
     "text": [
      "Index(['State', 'Bedroom', 'Bathroom', 'Area', 'PPSq', 'ConvertedLot',\n",
      "       'MarketEstimate'],\n",
      "      dtype='object')\n"
     ]
    }
   ],
   "source": [
    "df.drop(columns=['City', 'Street', 'Zipcode', 'Latitude','Longitude', 'LotArea', 'LotUnit', 'RentEstimate', 'Price'], inplace = True)\n",
    "print(df.columns)\n"
   ]
  },
  {
   "cell_type": "markdown",
   "id": "6ffe9b76",
   "metadata": {},
   "source": [
    "* add more paragraphs about missing data, mention MCAR, NAR, etc.* \n",
    "* mention the possibility of missing data imputation* -> by using estimate \n",
    "\n",
    "The next concern we have about cleaning our data is missing data....\n"
   ]
  },
  {
   "cell_type": "code",
   "execution_count": 40,
   "id": "a4123015",
   "metadata": {},
   "outputs": [
    {
     "name": "stdout",
     "output_type": "stream",
     "text": [
      "  State  Bedroom  Bathroom    Area        PPSq  ConvertedLot  MarketEstimate\n",
      "0    AL      4.0       2.0  1614.0  148.636927       0.38050        240600.0\n",
      "1    AL      3.0       2.0  1474.0    0.000678       0.67034        186700.0\n",
      "4    AL      3.0       3.0  2224.0  150.629496       0.26000        336200.0\n",
      "6    AL      3.0       2.0  1564.0   96.547315       0.20000        150500.0\n",
      "7    AL      3.0       2.0  1717.0  139.196273       0.38000        238400.0\n"
     ]
    }
   ],
   "source": [
    "# Dropping all rows with missing data \n",
    "df.dropna(inplace = True)\n",
    "print(df.head())"
   ]
  },
  {
   "cell_type": "code",
   "execution_count": 41,
   "id": "7ef49ef0",
   "metadata": {},
   "outputs": [
    {
     "name": "stdout",
     "output_type": "stream",
     "text": [
      "     State  Bedroom  Bathroom    Area        PPSq  ConvertedLot  \\\n",
      "9164    MD      4.0       3.0  2300.0   56.478261         0.270   \n",
      "471     AL      4.0       2.0  1089.0  117.079890         0.150   \n",
      "1900    AR      3.0       1.0  1524.0   16.076115         0.330   \n",
      "8228    LA      4.0       2.0  2707.0    9.235316         0.379   \n",
      "7725    KY      2.0       2.0  1105.0   24.886878         0.090   \n",
      "\n",
      "      MarketEstimate  \n",
      "9164         15700.0  \n",
      "471          21400.0  \n",
      "1900         22500.0  \n",
      "8228         24531.0  \n",
      "7725         25900.0  \n",
      "      State  Bedroom  Bathroom     Area         PPSq  ConvertedLot  \\\n",
      "9949     MA      9.0      11.0  23374.0  1197.912210        3.1012   \n",
      "24095    WY      5.0       7.0   7984.0  4101.953908       37.0600   \n",
      "2422     CA      7.0       9.0  14000.0  2063.428571        1.3082   \n",
      "24268    WY      4.0       7.0   9696.0  3867.574257        4.5300   \n",
      "20183    TN      5.0      10.0  19811.0  2019.080309       49.7200   \n",
      "\n",
      "       MarketEstimate  \n",
      "9949       27766800.0  \n",
      "24095      28174700.0  \n",
      "2422       28572600.0  \n",
      "24268      31759700.0  \n",
      "20183      36876900.0  \n"
     ]
    }
   ],
   "source": [
    "df.sort_values(by=['MarketEstimate'], inplace = True)\n",
    "print(df.head())\n",
    "print(df.tail())"
   ]
  },
  {
   "cell_type": "markdown",
   "id": "64c58135",
   "metadata": {},
   "source": [
    "*fix this later, find sources to talk about average* \n",
    "\n",
    "As you can see above, the ranges for the markest estimate is very large. We want to do a more accurate and average prediction. Thus we will limit our ranges from $100,000 to $2,000,000. "
   ]
  },
  {
   "cell_type": "code",
   "execution_count": 42,
   "id": "b555af85",
   "metadata": {},
   "outputs": [
    {
     "name": "stdout",
     "output_type": "stream",
     "text": [
      "      State  Bedroom  Bathroom    Area        PPSq  ConvertedLot  \\\n",
      "7512     KS      2.0       1.0   704.0  140.625000          0.14   \n",
      "23846    WI      4.0       2.0  2440.0   40.942623          0.42   \n",
      "10408    MI      1.0       1.0   528.0  189.204545          1.74   \n",
      "8567     ME      3.0       1.0  1008.0  106.150794          1.00   \n",
      "18149    PA      3.0       2.0  1145.0   87.248908          0.06   \n",
      "\n",
      "       MarketEstimate  \n",
      "7512         100200.0  \n",
      "23846        100200.0  \n",
      "10408        100600.0  \n",
      "8567         100600.0  \n",
      "18149        100800.0  \n"
     ]
    }
   ],
   "source": [
    "df = df[(df['MarketEstimate'] >= 100000) & (df['MarketEstimate'] <= 2000000)]\n",
    "print(df.head())"
   ]
  }
 ],
 "metadata": {
  "kernelspec": {
   "display_name": "Python 3 (ipykernel)",
   "language": "python",
   "name": "python3"
  },
  "language_info": {
   "codemirror_mode": {
    "name": "ipython",
    "version": 3
   },
   "file_extension": ".py",
   "mimetype": "text/x-python",
   "name": "python",
   "nbconvert_exporter": "python",
   "pygments_lexer": "ipython3",
   "version": "3.9.12"
  }
 },
 "nbformat": 4,
 "nbformat_minor": 5
}
